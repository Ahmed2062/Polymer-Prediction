{
 "cells": [
  {
   "cell_type": "markdown",
   "id": "eea2f14c",
   "metadata": {
    "id": "BsEQPhMUKsr7",
    "papermill": {
     "duration": 0.002965,
     "end_time": "2025-06-28T16:12:35.483084",
     "exception": false,
     "start_time": "2025-06-28T16:12:35.480119",
     "status": "completed"
    },
    "tags": []
   },
   "source": [
    "# **NeurIPS Targets ChemBerta**"
   ]
  },
  {
   "cell_type": "code",
   "execution_count": 1,
   "id": "f92c1355",
   "metadata": {
    "execution": {
     "iopub.execute_input": "2025-06-28T16:12:35.489105Z",
     "iopub.status.busy": "2025-06-28T16:12:35.488834Z",
     "iopub.status.idle": "2025-06-28T16:13:13.409775Z",
     "shell.execute_reply": "2025-06-28T16:13:13.408697Z"
    },
    "id": "WMkOA_hWKsr9",
    "papermill": {
     "duration": 37.925833,
     "end_time": "2025-06-28T16:13:13.411351",
     "exception": false,
     "start_time": "2025-06-28T16:12:35.485518",
     "status": "completed"
    },
    "tags": []
   },
   "outputs": [
    {
     "name": "stderr",
     "output_type": "stream",
     "text": [
      "2025-06-28 16:12:58.057755: E external/local_xla/xla/stream_executor/cuda/cuda_fft.cc:477] Unable to register cuFFT factory: Attempting to register factory for plugin cuFFT when one has already been registered\n",
      "WARNING: All log messages before absl::InitializeLog() is called are written to STDERR\n",
      "E0000 00:00:1751127178.328210      13 cuda_dnn.cc:8310] Unable to register cuDNN factory: Attempting to register factory for plugin cuDNN when one has already been registered\n",
      "E0000 00:00:1751127178.406472      13 cuda_blas.cc:1418] Unable to register cuBLAS factory: Attempting to register factory for plugin cuBLAS when one has already been registered\n"
     ]
    }
   ],
   "source": [
    "import random\n",
    "import numpy as np\n",
    "import pandas as pd\n",
    "import transformers\n",
    "from transformers import AutoTokenizer, AutoModel, RobertaTokenizer, RobertaModel\n",
    "transformers.logging.set_verbosity_error()\n",
    "import re\n",
    "import tensorflow as tf\n",
    "from xgboost import XGBRegressor\n",
    "from sklearn.model_selection import train_test_split\n",
    "import matplotlib.pyplot as plt\n",
    "pd.set_option(\"display.max_columns\", None)"
   ]
  },
  {
   "cell_type": "code",
   "execution_count": 2,
   "id": "e5c44f26",
   "metadata": {
    "execution": {
     "iopub.execute_input": "2025-06-28T16:13:13.417738Z",
     "iopub.status.busy": "2025-06-28T16:13:13.417192Z",
     "iopub.status.idle": "2025-06-28T16:13:13.513065Z",
     "shell.execute_reply": "2025-06-28T16:13:13.512247Z"
    },
    "id": "fpUu2t53Ksr-",
    "papermill": {
     "duration": 0.100131,
     "end_time": "2025-06-28T16:13:13.514233",
     "exception": false,
     "start_time": "2025-06-28T16:13:13.414102",
     "status": "completed"
    },
    "tags": []
   },
   "outputs": [
    {
     "name": "stdout",
     "output_type": "stream",
     "text": [
      "<class 'pandas.core.frame.DataFrame'>\n",
      "RangeIndex: 7973 entries, 0 to 7972\n",
      "Data columns (total 7 columns):\n",
      " #   Column   Non-Null Count  Dtype  \n",
      "---  ------   --------------  -----  \n",
      " 0   id       7973 non-null   int64  \n",
      " 1   SMILES   7973 non-null   object \n",
      " 2   Tg       511 non-null    float64\n",
      " 3   FFV      7030 non-null   float64\n",
      " 4   Tc       737 non-null    float64\n",
      " 5   Density  613 non-null    float64\n",
      " 6   Rg       614 non-null    float64\n",
      "dtypes: float64(5), int64(1), object(1)\n",
      "memory usage: 436.2+ KB\n"
     ]
    },
    {
     "data": {
      "text/plain": [
       "None"
      ]
     },
     "metadata": {},
     "output_type": "display_data"
    },
    {
     "name": "stderr",
     "output_type": "stream",
     "text": [
      "/usr/local/lib/python3.11/dist-packages/pandas/io/formats/format.py:1458: RuntimeWarning: invalid value encountered in greater\n",
      "  has_large_values = (abs_vals > 1e6).any()\n",
      "/usr/local/lib/python3.11/dist-packages/pandas/io/formats/format.py:1459: RuntimeWarning: invalid value encountered in less\n",
      "  has_small_values = ((abs_vals < 10 ** (-self.digits)) & (abs_vals > 0)).any()\n",
      "/usr/local/lib/python3.11/dist-packages/pandas/io/formats/format.py:1459: RuntimeWarning: invalid value encountered in greater\n",
      "  has_small_values = ((abs_vals < 10 ** (-self.digits)) & (abs_vals > 0)).any()\n"
     ]
    },
    {
     "data": {
      "text/html": [
       "<div>\n",
       "<style scoped>\n",
       "    .dataframe tbody tr th:only-of-type {\n",
       "        vertical-align: middle;\n",
       "    }\n",
       "\n",
       "    .dataframe tbody tr th {\n",
       "        vertical-align: top;\n",
       "    }\n",
       "\n",
       "    .dataframe thead th {\n",
       "        text-align: right;\n",
       "    }\n",
       "</style>\n",
       "<table border=\"1\" class=\"dataframe\">\n",
       "  <thead>\n",
       "    <tr style=\"text-align: right;\">\n",
       "      <th></th>\n",
       "      <th>text</th>\n",
       "      <th>Tg</th>\n",
       "      <th>FFV</th>\n",
       "      <th>Tc</th>\n",
       "      <th>Density</th>\n",
       "      <th>Rg</th>\n",
       "    </tr>\n",
       "  </thead>\n",
       "  <tbody>\n",
       "    <tr>\n",
       "      <th>0</th>\n",
       "      <td>*CC(*)c1ccccc1C(=O)OCCCCCC</td>\n",
       "      <td>NaN</td>\n",
       "      <td>0.374645</td>\n",
       "      <td>0.205667</td>\n",
       "      <td>NaN</td>\n",
       "      <td>NaN</td>\n",
       "    </tr>\n",
       "    <tr>\n",
       "      <th>1</th>\n",
       "      <td>*Nc1ccc([C@H](CCC)c2ccc(C3(c4ccc([C@@H](CCC)c5...</td>\n",
       "      <td>NaN</td>\n",
       "      <td>0.370410</td>\n",
       "      <td>NaN</td>\n",
       "      <td>NaN</td>\n",
       "      <td>NaN</td>\n",
       "    </tr>\n",
       "    <tr>\n",
       "      <th>2</th>\n",
       "      <td>*Oc1ccc(S(=O)(=O)c2ccc(Oc3ccc(C4(c5ccc(Oc6ccc(...</td>\n",
       "      <td>NaN</td>\n",
       "      <td>0.378860</td>\n",
       "      <td>NaN</td>\n",
       "      <td>NaN</td>\n",
       "      <td>NaN</td>\n",
       "    </tr>\n",
       "    <tr>\n",
       "      <th>3</th>\n",
       "      <td>*Nc1ccc(-c2c(-c3ccc(C)cc3)c(-c3ccc(C)cc3)c(N*)...</td>\n",
       "      <td>NaN</td>\n",
       "      <td>0.387324</td>\n",
       "      <td>NaN</td>\n",
       "      <td>NaN</td>\n",
       "      <td>NaN</td>\n",
       "    </tr>\n",
       "    <tr>\n",
       "      <th>4</th>\n",
       "      <td>*Oc1ccc(OC(=O)c2cc(OCCCCCCCCCOCC3CCCN3c3ccc([N...</td>\n",
       "      <td>NaN</td>\n",
       "      <td>0.355470</td>\n",
       "      <td>NaN</td>\n",
       "      <td>NaN</td>\n",
       "      <td>NaN</td>\n",
       "    </tr>\n",
       "    <tr>\n",
       "      <th>...</th>\n",
       "      <td>...</td>\n",
       "      <td>...</td>\n",
       "      <td>...</td>\n",
       "      <td>...</td>\n",
       "      <td>...</td>\n",
       "      <td>...</td>\n",
       "    </tr>\n",
       "    <tr>\n",
       "      <th>7968</th>\n",
       "      <td>*Oc1cc(CCCCCCCC)cc(OC(=O)c2cccc(C(*)=O)c2)c1</td>\n",
       "      <td>NaN</td>\n",
       "      <td>0.367498</td>\n",
       "      <td>NaN</td>\n",
       "      <td>NaN</td>\n",
       "      <td>NaN</td>\n",
       "    </tr>\n",
       "    <tr>\n",
       "      <th>7969</th>\n",
       "      <td>*C(=O)OCCN(CCOC(=O)c1ccc2c(c1)C(=O)N(c1cccc(N3...</td>\n",
       "      <td>NaN</td>\n",
       "      <td>0.353280</td>\n",
       "      <td>NaN</td>\n",
       "      <td>NaN</td>\n",
       "      <td>NaN</td>\n",
       "    </tr>\n",
       "    <tr>\n",
       "      <th>7970</th>\n",
       "      <td>*c1cc(C(=O)NCCCCCCCC)cc(N2C(=O)c3ccc(-c4ccc5c(...</td>\n",
       "      <td>NaN</td>\n",
       "      <td>0.369411</td>\n",
       "      <td>NaN</td>\n",
       "      <td>NaN</td>\n",
       "      <td>NaN</td>\n",
       "    </tr>\n",
       "    <tr>\n",
       "      <th>7971</th>\n",
       "      <td>*C=C(*)c1ccccc1C</td>\n",
       "      <td>261.662355</td>\n",
       "      <td>NaN</td>\n",
       "      <td>NaN</td>\n",
       "      <td>NaN</td>\n",
       "      <td>NaN</td>\n",
       "    </tr>\n",
       "    <tr>\n",
       "      <th>7972</th>\n",
       "      <td>*c1ccc(OCCCCCCCCCCCOC(=O)CCCCC(=O)OCCCCCCCCCCC...</td>\n",
       "      <td>NaN</td>\n",
       "      <td>0.374049</td>\n",
       "      <td>NaN</td>\n",
       "      <td>NaN</td>\n",
       "      <td>NaN</td>\n",
       "    </tr>\n",
       "  </tbody>\n",
       "</table>\n",
       "<p>7973 rows × 6 columns</p>\n",
       "</div>"
      ],
      "text/plain": [
       "                                                   text          Tg       FFV  \\\n",
       "0                            *CC(*)c1ccccc1C(=O)OCCCCCC         NaN  0.374645   \n",
       "1     *Nc1ccc([C@H](CCC)c2ccc(C3(c4ccc([C@@H](CCC)c5...         NaN  0.370410   \n",
       "2     *Oc1ccc(S(=O)(=O)c2ccc(Oc3ccc(C4(c5ccc(Oc6ccc(...         NaN  0.378860   \n",
       "3     *Nc1ccc(-c2c(-c3ccc(C)cc3)c(-c3ccc(C)cc3)c(N*)...         NaN  0.387324   \n",
       "4     *Oc1ccc(OC(=O)c2cc(OCCCCCCCCCOCC3CCCN3c3ccc([N...         NaN  0.355470   \n",
       "...                                                 ...         ...       ...   \n",
       "7968       *Oc1cc(CCCCCCCC)cc(OC(=O)c2cccc(C(*)=O)c2)c1         NaN  0.367498   \n",
       "7969  *C(=O)OCCN(CCOC(=O)c1ccc2c(c1)C(=O)N(c1cccc(N3...         NaN  0.353280   \n",
       "7970  *c1cc(C(=O)NCCCCCCCC)cc(N2C(=O)c3ccc(-c4ccc5c(...         NaN  0.369411   \n",
       "7971                                   *C=C(*)c1ccccc1C  261.662355       NaN   \n",
       "7972  *c1ccc(OCCCCCCCCCCCOC(=O)CCCCC(=O)OCCCCCCCCCCC...         NaN  0.374049   \n",
       "\n",
       "            Tc  Density  Rg  \n",
       "0     0.205667      NaN NaN  \n",
       "1          NaN      NaN NaN  \n",
       "2          NaN      NaN NaN  \n",
       "3          NaN      NaN NaN  \n",
       "4          NaN      NaN NaN  \n",
       "...        ...      ...  ..  \n",
       "7968       NaN      NaN NaN  \n",
       "7969       NaN      NaN NaN  \n",
       "7970       NaN      NaN NaN  \n",
       "7971       NaN      NaN NaN  \n",
       "7972       NaN      NaN NaN  \n",
       "\n",
       "[7973 rows x 6 columns]"
      ]
     },
     "metadata": {},
     "output_type": "display_data"
    }
   ],
   "source": [
    "# 1. Load the dataset\n",
    "data0 = pd.read_csv('/kaggle/input/neurips-open-polymer-prediction-2025/train.csv')\n",
    "display(data0.info())\n",
    "targets = ['Tg', 'FFV', 'Tc', 'Density', 'Rg']\n",
    "data = data0.drop('id',axis=1)\n",
    "data.columns=['text']+targets\n",
    "display(data)"
   ]
  },
  {
   "cell_type": "code",
   "execution_count": 3,
   "id": "76c7c2f0",
   "metadata": {
    "execution": {
     "iopub.execute_input": "2025-06-28T16:13:13.520992Z",
     "iopub.status.busy": "2025-06-28T16:13:13.520723Z",
     "iopub.status.idle": "2025-06-28T16:13:13.530187Z",
     "shell.execute_reply": "2025-06-28T16:13:13.529279Z"
    },
    "id": "j7CKTQ4VKsr-",
    "papermill": {
     "duration": 0.014804,
     "end_time": "2025-06-28T16:13:13.531919",
     "exception": false,
     "start_time": "2025-06-28T16:13:13.517115",
     "status": "completed"
    },
    "tags": []
   },
   "outputs": [],
   "source": [
    "TEST0 = pd.read_csv('/kaggle/input/neurips-open-polymer-prediction-2025/test.csv')\n",
    "TEST = TEST0[['SMILES']]\n",
    "TEST.columns=['text']"
   ]
  },
  {
   "cell_type": "code",
   "execution_count": 4,
   "id": "dd54bf2c",
   "metadata": {
    "execution": {
     "iopub.execute_input": "2025-06-28T16:13:13.539695Z",
     "iopub.status.busy": "2025-06-28T16:13:13.539365Z",
     "iopub.status.idle": "2025-06-28T16:13:13.592722Z",
     "shell.execute_reply": "2025-06-28T16:13:13.591629Z"
    },
    "id": "O5sIFsYxKsr_",
    "papermill": {
     "duration": 0.059028,
     "end_time": "2025-06-28T16:13:13.594398",
     "exception": false,
     "start_time": "2025-06-28T16:13:13.535370",
     "status": "completed"
    },
    "tags": []
   },
   "outputs": [],
   "source": [
    "# 2. Tokenization and data preparation\n",
    "model_path=\"/kaggle/input/c/transformers/default/1/ChemBERTa-77M-MLM\"\n",
    "tokenizer = AutoTokenizer.from_pretrained(model_path)\n",
    "max_len = 128\n",
    "\n",
    "def create_data(text):\n",
    "    encoded = tokenizer.batch_encode_plus(\n",
    "        text.tolist(),\n",
    "        add_special_tokens=True,\n",
    "        max_length=max_len,\n",
    "        padding='max_length',\n",
    "        truncation=True,\n",
    "        return_attention_mask=True\n",
    "    )\n",
    "\n",
    "    input_ids = np.array(encoded[\"input_ids\"], dtype=\"int32\")\n",
    "    attention_masks = np.array(encoded[\"attention_mask\"], dtype=\"float64\")\n",
    "\n",
    "    return {\"input_ids\": input_ids,\"attention_mask\": attention_masks}"
   ]
  },
  {
   "cell_type": "code",
   "execution_count": 5,
   "id": "e1e079b7",
   "metadata": {
    "execution": {
     "iopub.execute_input": "2025-06-28T16:13:13.601302Z",
     "iopub.status.busy": "2025-06-28T16:13:13.601025Z",
     "iopub.status.idle": "2025-06-28T16:13:13.610078Z",
     "shell.execute_reply": "2025-06-28T16:13:13.608616Z"
    },
    "id": "A8inFomNKsr_",
    "papermill": {
     "duration": 0.014034,
     "end_time": "2025-06-28T16:13:13.611479",
     "exception": false,
     "start_time": "2025-06-28T16:13:13.597445",
     "status": "completed"
    },
    "tags": []
   },
   "outputs": [],
   "source": [
    "from transformers import AutoModel, AutoTokenizer\n",
    "import torch\n",
    "\n",
    "def extract_roberta_features(texts, model_path, batch_size=32, max_len=512):\n",
    "    \"\"\"\n",
    "    Extract features from text using RoBERTa model\n",
    "\n",
    "    Args:\n",
    "        texts: List of input text strings\n",
    "        model_path: Path to model (local or Hugging Face hub name)\n",
    "        batch_size: Batch size for processing\n",
    "        max_len: Maximum sequence length\n",
    "\n",
    "    Returns:\n",
    "        numpy array of extracted features\n",
    "    \"\"\"\n",
    "    # Load model and tokenizer\n",
    "    model = AutoModel.from_pretrained(model_path, local_files_only=True)\n",
    "    tokenizer = AutoTokenizer.from_pretrained(model_path, local_files_only=True)\n",
    "\n",
    "    # Move model to GPU if available\n",
    "    device = torch.device(\"cuda\" if torch.cuda.is_available() else \"cpu\")\n",
    "    model = model.to(device)\n",
    "\n",
    "    features = []\n",
    "\n",
    "    # Process in batches\n",
    "    for i in range(0, len(texts), batch_size):\n",
    "        batch_texts = texts[i:i+batch_size]\n",
    "\n",
    "        # Tokenization (using PyTorch tensors)\n",
    "        encoded = tokenizer(\n",
    "            batch_texts,\n",
    "            add_special_tokens=True,\n",
    "            max_length=max_len,\n",
    "            padding='max_length',\n",
    "            truncation=True,\n",
    "            return_attention_mask=True,\n",
    "            return_tensors='pt'\n",
    "        )\n",
    "\n",
    "        # Move tensors to the same device as model\n",
    "        encoded = {k: v.to(device) for k, v in encoded.items()}\n",
    "\n",
    "        # Extract features\n",
    "        with torch.no_grad():\n",
    "            outputs = model(**encoded)\n",
    "\n",
    "        # Average pooling (mean of last hidden states)\n",
    "        pooled_features = outputs.last_hidden_state.mean(dim=1)\n",
    "\n",
    "        # Move to CPU and convert to numpy\n",
    "        features.append(pooled_features.cpu().numpy())\n",
    "\n",
    "    return np.vstack(features)"
   ]
  },
  {
   "cell_type": "code",
   "execution_count": 6,
   "id": "5708047b",
   "metadata": {
    "execution": {
     "iopub.execute_input": "2025-06-28T16:13:13.618403Z",
     "iopub.status.busy": "2025-06-28T16:13:13.618039Z",
     "iopub.status.idle": "2025-06-28T16:13:13.624383Z",
     "shell.execute_reply": "2025-06-28T16:13:13.622790Z"
    },
    "id": "25a8AtDvKsr_",
    "papermill": {
     "duration": 0.011815,
     "end_time": "2025-06-28T16:13:13.626256",
     "exception": false,
     "start_time": "2025-06-28T16:13:13.614441",
     "status": "completed"
    },
    "tags": []
   },
   "outputs": [],
   "source": [
    "# Learning rate scheduler\n",
    "def scheduler(epoch):\n",
    "    learning_rate = 2e-5\n",
    "    if epoch == 0:\n",
    "        return learning_rate * 0.1\n",
    "    else:\n",
    "        return learning_rate * (0.95 ** epoch)"
   ]
  },
  {
   "cell_type": "code",
   "execution_count": 7,
   "id": "2cb2e1c7",
   "metadata": {
    "execution": {
     "iopub.execute_input": "2025-06-28T16:13:13.633653Z",
     "iopub.status.busy": "2025-06-28T16:13:13.633288Z",
     "iopub.status.idle": "2025-06-28T16:13:13.639111Z",
     "shell.execute_reply": "2025-06-28T16:13:13.637842Z"
    },
    "id": "G-BWLnA-KssA",
    "papermill": {
     "duration": 0.012422,
     "end_time": "2025-06-28T16:13:13.641707",
     "exception": false,
     "start_time": "2025-06-28T16:13:13.629285",
     "status": "completed"
    },
    "tags": []
   },
   "outputs": [],
   "source": [
    "# 4. Train the model (modified for feature extraction approach)\n",
    "def train_model(train_texts, train_targets):\n",
    "    print(\"Extracting features from training data...\")\n",
    "    train_features = extract_roberta_features(train_texts, model_path)\n",
    "\n",
    "    model = XGBRegressor(\n",
    "        n_estimators=200,\n",
    "        max_depth=6,\n",
    "        learning_rate=0.05,\n",
    "        subsample=0.8,\n",
    "        colsample_bytree=0.8,\n",
    "        random_state=42,\n",
    "        tree_method=\"hist\",\n",
    "        verbosity=0\n",
    "    )\n",
    "\n",
    "    model.fit(train_features, train_targets)\n",
    "    return model"
   ]
  },
  {
   "cell_type": "code",
   "execution_count": 8,
   "id": "8476fbb2",
   "metadata": {
    "execution": {
     "iopub.execute_input": "2025-06-28T16:13:13.648821Z",
     "iopub.status.busy": "2025-06-28T16:13:13.648487Z",
     "iopub.status.idle": "2025-06-28T16:13:13.655469Z",
     "shell.execute_reply": "2025-06-28T16:13:13.653587Z"
    },
    "id": "82AhkC4SKssA",
    "papermill": {
     "duration": 0.012851,
     "end_time": "2025-06-28T16:13:13.657665",
     "exception": false,
     "start_time": "2025-06-28T16:13:13.644814",
     "status": "completed"
    },
    "tags": []
   },
   "outputs": [],
   "source": [
    "# 5. Predict and evaluate (for feature extraction approach)\n",
    "def evaluate_model(model, test_targets):\n",
    "    # Extract features from test data\n",
    "    print(\"Extracting features from test data...\")\n",
    "    test_texts = test['text'].tolist()\n",
    "    test_features = extract_roberta_features(test_texts, model_path)\n",
    "\n",
    "    # Make predictions\n",
    "    predictions = model.predict(test_features)\n",
    "    predictions = predictions.flatten()\n",
    "\n",
    "    # Evaluation metrics\n",
    "    mse = np.mean((predictions - test_targets) ** 2)\n",
    "    mae = np.mean(np.abs(predictions - test_targets))\n",
    "    rmse = np.sqrt(mse)\n",
    "\n",
    "    # Correlation coefficient\n",
    "    correlation = np.corrcoef(predictions, test_targets)[0, 1]\n",
    "\n",
    "    print(f\"MSE: {mse:.4f}\")\n",
    "    print(f\"MAE: {mae:.4f}\")\n",
    "    print(f\"RMSE: {rmse:.4f}\")\n",
    "    print(f\"Correlation: {correlation:.4f}\")\n",
    "\n",
    "    return predictions"
   ]
  },
  {
   "cell_type": "code",
   "execution_count": 9,
   "id": "c261483b",
   "metadata": {
    "execution": {
     "iopub.execute_input": "2025-06-28T16:13:13.664237Z",
     "iopub.status.busy": "2025-06-28T16:13:13.663998Z",
     "iopub.status.idle": "2025-06-28T16:13:13.670292Z",
     "shell.execute_reply": "2025-06-28T16:13:13.669542Z"
    },
    "id": "WqVcMVsuLcpo",
    "papermill": {
     "duration": 0.010959,
     "end_time": "2025-06-28T16:13:13.671569",
     "exception": false,
     "start_time": "2025-06-28T16:13:13.660610",
     "status": "completed"
    },
    "tags": []
   },
   "outputs": [],
   "source": [
    "def build_regression_model(input_dim):\n",
    "    model = tf.keras.Sequential([\n",
    "        tf.keras.Input(shape=(input_dim,)),\n",
    "        tf.keras.layers.Dense(512, activation='relu'),\n",
    "        tf.keras.layers.Dropout(0.3),\n",
    "        tf.keras.layers.Dense(256, activation='relu'),\n",
    "        tf.keras.layers.Dropout(0.2),\n",
    "        tf.keras.layers.Dense(128, activation='relu'),\n",
    "        tf.keras.layers.Dropout(0.1),\n",
    "        tf.keras.layers.Dense(1)\n",
    "    ])\n",
    "\n",
    "    model.compile(optimizer=tf.keras.optimizers.Adam(learning_rate=1e-3),\n",
    "                  loss='mse',\n",
    "                  metrics=['mae'])\n",
    "\n",
    "    return model\n",
    "\n",
    "def train_nn_model(train_texts, train_targets):\n",
    "    print(\"Extracting features for NN...\")\n",
    "    train_features = extract_roberta_features(train_texts, model_path)\n",
    "\n",
    "    model = build_regression_model(train_features.shape[1])\n",
    "    model.fit(\n",
    "        train_features, train_targets,\n",
    "        epochs=50,\n",
    "        batch_size=32,\n",
    "        validation_split=0.2,\n",
    "        callbacks=[tf.keras.callbacks.EarlyStopping(patience=5, restore_best_weights=True)],\n",
    "        verbose=0\n",
    "    )\n",
    "\n",
    "    return model\n"
   ]
  },
  {
   "cell_type": "code",
   "execution_count": 10,
   "id": "a7dd4673",
   "metadata": {
    "execution": {
     "iopub.execute_input": "2025-06-28T16:13:13.678127Z",
     "iopub.status.busy": "2025-06-28T16:13:13.677824Z",
     "iopub.status.idle": "2025-06-28T16:19:59.273852Z",
     "shell.execute_reply": "2025-06-28T16:19:59.273172Z"
    },
    "id": "-7ysyjiFKssA",
    "papermill": {
     "duration": 405.600606,
     "end_time": "2025-06-28T16:19:59.274999",
     "exception": false,
     "start_time": "2025-06-28T16:13:13.674393",
     "status": "completed"
    },
    "tags": []
   },
   "outputs": [
    {
     "name": "stdout",
     "output_type": "stream",
     "text": [
      "\n",
      "Training for target: Tg\n",
      "Extracting features for NN...\n"
     ]
    },
    {
     "name": "stderr",
     "output_type": "stream",
     "text": [
      "2025-06-28 16:13:36.394259: E external/local_xla/xla/stream_executor/cuda/cuda_driver.cc:152] failed call to cuInit: INTERNAL: CUDA error: Failed call to cuInit: UNKNOWN ERROR (303)\n"
     ]
    },
    {
     "name": "stdout",
     "output_type": "stream",
     "text": [
      "Evaluating for target: Tg\n",
      "\u001b[1m2/2\u001b[0m \u001b[32m━━━━━━━━━━━━━━━━━━━━\u001b[0m\u001b[37m\u001b[0m \u001b[1m0s\u001b[0m 52ms/step\n",
      "MSE: 3311.9216\n",
      "MAE: 45.1261\n",
      "RMSE: 57.5493\n",
      "Correlation: 0.8192\n",
      "\n",
      "Training for target: FFV\n",
      "Extracting features from training data...\n",
      "Evaluating for target: FFV\n",
      "MSE: 0.0003\n",
      "MAE: 0.0085\n",
      "RMSE: 0.0185\n",
      "Correlation: 0.8258\n",
      "\n",
      "Training for target: Tc\n",
      "Extracting features from training data...\n",
      "Evaluating for target: Tc\n",
      "MSE: 0.0025\n",
      "MAE: 0.0320\n",
      "RMSE: 0.0495\n",
      "Correlation: 0.8511\n",
      "\n",
      "Training for target: Density\n",
      "Extracting features for NN...\n",
      "Extracting features from training data...\n",
      "Evaluating for target: Density\n",
      "\u001b[1m2/2\u001b[0m \u001b[32m━━━━━━━━━━━━━━━━━━━━\u001b[0m\u001b[37m\u001b[0m \u001b[1m0s\u001b[0m 57ms/step\n",
      "MSE: 0.0140\n",
      "MAE: 0.0645\n",
      "RMSE: 0.1185\n",
      "Correlation: 0.5064\n",
      "\n",
      "Training for target: Rg\n",
      "Extracting features for NN...\n",
      "Evaluating for target: Rg\n",
      "\u001b[1m2/2\u001b[0m \u001b[32m━━━━━━━━━━━━━━━━━━━━\u001b[0m\u001b[37m\u001b[0m \u001b[1m0s\u001b[0m 55ms/step\n",
      "MSE: 6.4795\n",
      "MAE: 1.8262\n",
      "RMSE: 2.5455\n",
      "Correlation: 0.8392\n"
     ]
    }
   ],
   "source": [
    "\n",
    "if __name__ == \"__main__\":\n",
    "    nn_models = {}\n",
    "    xgb_models = {}\n",
    "\n",
    "    for target in targets:\n",
    "        filtered_df = data.dropna(subset=[target])\n",
    "        train, test = train_test_split(filtered_df, test_size=0.1, random_state=42)\n",
    "\n",
    "        train_texts = train['text'].tolist()\n",
    "        test_texts = test['text'].tolist()\n",
    "        train_targets = train[target].values\n",
    "        test_targets = test[target].values\n",
    "\n",
    "        print(f\"\\nTraining for target: {target}\")\n",
    "\n",
    "        if target in ['Tg', 'Rg']:\n",
    "            model = train_nn_model(train_texts, train_targets)\n",
    "            nn_models[target] = model\n",
    "        elif target in ['Tc', 'FFV']:\n",
    "            model = train_model(train_texts, train_targets)\n",
    "            xgb_models[target] = model\n",
    "        elif target == 'Density':\n",
    "            nn_model = train_nn_model(train_texts, train_targets)\n",
    "            xgb_model = train_model(train_texts, train_targets)\n",
    "            nn_models[target] = nn_model\n",
    "            xgb_models[target] = xgb_model\n",
    "\n",
    "        print(f\"Evaluating for target: {target}\")\n",
    "        test_features = extract_roberta_features(test_texts, model_path)\n",
    "\n",
    "        if target in ['Tg', 'Rg']:\n",
    "            predictions = nn_models[target].predict(test_features).flatten()\n",
    "        elif target in ['Tc', 'FFV']:\n",
    "            predictions = xgb_models[target].predict(test_features)\n",
    "        elif target == 'Density':\n",
    "            nn_pred = nn_models[target].predict(test_features).flatten()\n",
    "            xgb_pred = xgb_models[target].predict(test_features)\n",
    "            predictions = 0.3 * nn_pred + 0.7 * xgb_pred\n",
    "\n",
    "        mse = np.mean((predictions - test_targets) ** 2)\n",
    "        mae = np.mean(np.abs(predictions - test_targets))\n",
    "        rmse = np.sqrt(mse)\n",
    "        correlation = np.corrcoef(predictions, test_targets)[0, 1]\n",
    "\n",
    "        print(f\"MSE: {mse:.4f}\")\n",
    "        print(f\"MAE: {mae:.4f}\")\n",
    "        print(f\"RMSE: {rmse:.4f}\")\n",
    "        print(f\"Correlation: {correlation:.4f}\")\n"
   ]
  },
  {
   "cell_type": "code",
   "execution_count": 11,
   "id": "81a8c0d0",
   "metadata": {
    "execution": {
     "iopub.execute_input": "2025-06-28T16:19:59.283944Z",
     "iopub.status.busy": "2025-06-28T16:19:59.283632Z",
     "iopub.status.idle": "2025-06-28T16:19:59.708310Z",
     "shell.execute_reply": "2025-06-28T16:19:59.707335Z"
    },
    "id": "VOMTSXW9KssB",
    "papermill": {
     "duration": 0.431037,
     "end_time": "2025-06-28T16:19:59.710065",
     "exception": false,
     "start_time": "2025-06-28T16:19:59.279028",
     "status": "completed"
    },
    "tags": []
   },
   "outputs": [
    {
     "name": "stdout",
     "output_type": "stream",
     "text": [
      "\u001b[1m1/1\u001b[0m \u001b[32m━━━━━━━━━━━━━━━━━━━━\u001b[0m\u001b[37m\u001b[0m \u001b[1m0s\u001b[0m 33ms/step\n",
      "\u001b[1m1/1\u001b[0m \u001b[32m━━━━━━━━━━━━━━━━━━━━\u001b[0m\u001b[37m\u001b[0m \u001b[1m0s\u001b[0m 32ms/step\n",
      "\u001b[1m1/1\u001b[0m \u001b[32m━━━━━━━━━━━━━━━━━━━━\u001b[0m\u001b[37m\u001b[0m \u001b[1m0s\u001b[0m 34ms/step\n"
     ]
    },
    {
     "name": "stderr",
     "output_type": "stream",
     "text": [
      "/tmp/ipykernel_13/444233199.py:19: FutureWarning: Setting an item of incompatible dtype is deprecated and will raise in a future error of pandas. Value '[124.49169159 168.24113464 112.41947174]' has dtype incompatible with int64, please explicitly cast to a compatible dtype first.\n",
      "  submit.iloc[:, 1:] = RESULT\n",
      "/tmp/ipykernel_13/444233199.py:19: FutureWarning: Setting an item of incompatible dtype is deprecated and will raise in a future error of pandas. Value '[0.37532592 0.3730531  0.35220748]' has dtype incompatible with int64, please explicitly cast to a compatible dtype first.\n",
      "  submit.iloc[:, 1:] = RESULT\n",
      "/tmp/ipykernel_13/444233199.py:19: FutureWarning: Setting an item of incompatible dtype is deprecated and will raise in a future error of pandas. Value '[0.21702242 0.23187959 0.25791746]' has dtype incompatible with int64, please explicitly cast to a compatible dtype first.\n",
      "  submit.iloc[:, 1:] = RESULT\n",
      "/tmp/ipykernel_13/444233199.py:19: FutureWarning: Setting an item of incompatible dtype is deprecated and will raise in a future error of pandas. Value '[1.1243397  1.10631168 1.1076895 ]' has dtype incompatible with int64, please explicitly cast to a compatible dtype first.\n",
      "  submit.iloc[:, 1:] = RESULT\n",
      "/tmp/ipykernel_13/444233199.py:19: FutureWarning: Setting an item of incompatible dtype is deprecated and will raise in a future error of pandas. Value '[20.22883797 22.9184227  19.364748  ]' has dtype incompatible with int64, please explicitly cast to a compatible dtype first.\n",
      "  submit.iloc[:, 1:] = RESULT\n"
     ]
    },
    {
     "data": {
      "text/html": [
       "<div>\n",
       "<style scoped>\n",
       "    .dataframe tbody tr th:only-of-type {\n",
       "        vertical-align: middle;\n",
       "    }\n",
       "\n",
       "    .dataframe tbody tr th {\n",
       "        vertical-align: top;\n",
       "    }\n",
       "\n",
       "    .dataframe thead th {\n",
       "        text-align: right;\n",
       "    }\n",
       "</style>\n",
       "<table border=\"1\" class=\"dataframe\">\n",
       "  <thead>\n",
       "    <tr style=\"text-align: right;\">\n",
       "      <th></th>\n",
       "      <th>id</th>\n",
       "      <th>Tg</th>\n",
       "      <th>FFV</th>\n",
       "      <th>Tc</th>\n",
       "      <th>Density</th>\n",
       "      <th>Rg</th>\n",
       "    </tr>\n",
       "  </thead>\n",
       "  <tbody>\n",
       "    <tr>\n",
       "      <th>0</th>\n",
       "      <td>1109053969</td>\n",
       "      <td>124.491692</td>\n",
       "      <td>0.375326</td>\n",
       "      <td>0.217022</td>\n",
       "      <td>1.124340</td>\n",
       "      <td>20.228838</td>\n",
       "    </tr>\n",
       "    <tr>\n",
       "      <th>1</th>\n",
       "      <td>1422188626</td>\n",
       "      <td>168.241135</td>\n",
       "      <td>0.373053</td>\n",
       "      <td>0.231880</td>\n",
       "      <td>1.106312</td>\n",
       "      <td>22.918423</td>\n",
       "    </tr>\n",
       "    <tr>\n",
       "      <th>2</th>\n",
       "      <td>2032016830</td>\n",
       "      <td>112.419472</td>\n",
       "      <td>0.352207</td>\n",
       "      <td>0.257917</td>\n",
       "      <td>1.107689</td>\n",
       "      <td>19.364748</td>\n",
       "    </tr>\n",
       "  </tbody>\n",
       "</table>\n",
       "</div>"
      ],
      "text/plain": [
       "           id          Tg       FFV        Tc   Density         Rg\n",
       "0  1109053969  124.491692  0.375326  0.217022  1.124340  20.228838\n",
       "1  1422188626  168.241135  0.373053  0.231880  1.106312  22.918423\n",
       "2  2032016830  112.419472  0.352207  0.257917  1.107689  19.364748"
      ]
     },
     "metadata": {},
     "output_type": "display_data"
    }
   ],
   "source": [
    "\n",
    "test_texts = TEST['text'].tolist()\n",
    "test_features = extract_roberta_features(test_texts, model_path)\n",
    "\n",
    "RESULT = np.zeros((len(TEST), len(targets)))\n",
    "\n",
    "for i, target in enumerate(targets):\n",
    "    if target in ['Tg', 'Rg']:\n",
    "        pred = nn_models[target].predict(test_features).flatten()\n",
    "    elif target in ['Tc', 'FFV']:\n",
    "        pred = xgb_models[target].predict(test_features)\n",
    "    elif target == 'Density':\n",
    "        nn_pred = nn_models[target].predict(test_features).flatten()\n",
    "        xgb_pred = xgb_models[target].predict(test_features)\n",
    "        pred = 0.3 * nn_pred + 0.7 * xgb_pred\n",
    "\n",
    "    RESULT[:, i] = pred\n",
    "\n",
    "submit = pd.read_csv('/kaggle/input/neurips-open-polymer-prediction-2025/sample_submission.csv')\n",
    "submit.iloc[:, 1:] = RESULT\n",
    "submit.to_csv('submission.csv', index=False)\n",
    "display(submit)\n"
   ]
  }
 ],
 "metadata": {
  "colab": {
   "provenance": []
  },
  "kaggle": {
   "accelerator": "none",
   "dataSources": [
    {
     "databundleVersionId": 12609125,
     "sourceId": 74608,
     "sourceType": "competition"
    },
    {
     "modelId": 380893,
     "modelInstanceId": 359690,
     "sourceId": 442871,
     "sourceType": "modelInstanceVersion"
    }
   ],
   "dockerImageVersionId": 31040,
   "isGpuEnabled": false,
   "isInternetEnabled": false,
   "language": "python",
   "sourceType": "notebook"
  },
  "kernelspec": {
   "display_name": "Python 3",
   "language": "python",
   "name": "python3"
  },
  "language_info": {
   "codemirror_mode": {
    "name": "ipython",
    "version": 3
   },
   "file_extension": ".py",
   "mimetype": "text/x-python",
   "name": "python",
   "nbconvert_exporter": "python",
   "pygments_lexer": "ipython3",
   "version": "3.11.11"
  },
  "papermill": {
   "default_parameters": {},
   "duration": 452.281904,
   "end_time": "2025-06-28T16:20:03.427607",
   "environment_variables": {},
   "exception": null,
   "input_path": "__notebook__.ipynb",
   "output_path": "__notebook__.ipynb",
   "parameters": {},
   "start_time": "2025-06-28T16:12:31.145703",
   "version": "2.6.0"
  }
 },
 "nbformat": 4,
 "nbformat_minor": 5
}
